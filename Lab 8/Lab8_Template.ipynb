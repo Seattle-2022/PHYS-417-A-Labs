{
 "cells": [
  {
   "cell_type": "markdown",
   "id": "c76bd7e6",
   "metadata": {},
   "source": [
    "# Lab 8 Report: \n",
    "## FINAL PROJECT STRATEGIC PLANNING"
   ]
  },
  {
   "cell_type": "markdown",
   "id": "3f5ed902",
   "metadata": {},
   "source": [
    "### Lab 8 Instruction: \n",
    "https://canvas.uw.edu/files/106242897/download?download_frd=1"
   ]
  },
  {
   "cell_type": "markdown",
   "id": "0098c149",
   "metadata": {},
   "source": [
    "### Team Members:"
   ]
  },
  {
   "cell_type": "markdown",
   "id": "36869478",
   "metadata": {},
   "source": [
    "### Dataset for your project:"
   ]
  },
  {
   "cell_type": "markdown",
   "id": "7b08ff02",
   "metadata": {},
   "source": [
    "#### Feel free to delete or modify pre-written markdown cells below the line"
   ]
  },
  {
   "cell_type": "markdown",
   "id": "3fe993be",
   "metadata": {},
   "source": [
    "We first want to import stuff"
   ]
  },
  {
   "cell_type": "code",
   "execution_count": 1,
   "id": "606d4c54",
   "metadata": {},
   "outputs": [],
   "source": [
    "%matplotlib inline\n",
    "\n",
    "import numpy as np\n",
    "import matplotlib.pyplot as plt\n",
    "import torch\n",
    "import pandas as pd\n",
    "import seaborn as sns\n",
    "from IPython.display import Image\n",
    "sns.set(style = 'white', font_scale = 2)\n"
   ]
  },
  {
   "cell_type": "code",
   "execution_count": 2,
   "id": "03381b74",
   "metadata": {},
   "outputs": [
    {
     "data": {
      "text/plain": [
       "True"
      ]
     },
     "execution_count": 2,
     "metadata": {},
     "output_type": "execute_result"
    }
   ],
   "source": [
    "torch.cuda.is_available()"
   ]
  },
  {
   "cell_type": "markdown",
   "id": "596ea344",
   "metadata": {},
   "source": [
    "## Understanding the Data"
   ]
  },
  {
   "cell_type": "code",
   "execution_count": 3,
   "id": "53027328",
   "metadata": {},
   "outputs": [
    {
     "data": {
      "text/plain": [
       "(2132, 2549)"
      ]
     },
     "execution_count": 3,
     "metadata": {},
     "output_type": "execute_result"
    }
   ],
   "source": [
    "emotions = pd.read_csv('Neuros2_emotions.csv')\n",
    "emotions_np = emotions.to_numpy()\n",
    "emotions_np.shape"
   ]
  },
  {
   "cell_type": "code",
   "execution_count": 4,
   "id": "26401802",
   "metadata": {},
   "outputs": [
    {
     "data": {
      "text/plain": [
       "(2132, 2548)"
      ]
     },
     "execution_count": 4,
     "metadata": {},
     "output_type": "execute_result"
    }
   ],
   "source": [
    "emotions_np[:, -1]\n",
    "target_data = []\n",
    "for i in emotions_np[:, -1]:\n",
    "    if i == \"NEGATIVE\":\n",
    "        target_data.append(-1)\n",
    "    if i == \"NEUTRAL\":\n",
    "        target_data.append(0)\n",
    "    if i == \"POSITIVE\":\n",
    "        target_data.append(1)\n",
    "        \n",
    "target_data = np.array(target_data)\n",
    "feature_data = emotions_np[:, :-1]\n",
    "feature_data.shape\n"
   ]
  },
  {
   "cell_type": "code",
   "execution_count": 5,
   "id": "1868184b",
   "metadata": {},
   "outputs": [],
   "source": [
    "from sklearn.preprocessing import StandardScaler\n",
    "\n",
    "scaler = StandardScaler()\n",
    "feature_data = scaler.fit_transform(feature_data)\n"
   ]
  },
  {
   "cell_type": "markdown",
   "id": "4876e8b0",
   "metadata": {},
   "source": [
    "The main problem is creating a manageable set of attributes to use as inputs for our model.\n",
    "\n",
    "I will first implement OneR as an example of what this might look like."
   ]
  },
  {
   "cell_type": "markdown",
   "id": "526dd6ab",
   "metadata": {},
   "source": [
    "## Understanding the Task"
   ]
  },
  {
   "cell_type": "code",
   "execution_count": 6,
   "id": "7cafad17",
   "metadata": {
    "scrolled": true
   },
   "outputs": [],
   "source": [
    "from scipy.stats import norm\n",
    "import bisect\n",
    "def discretize(arry, num):\n",
    "    probs = []\n",
    "    for i in range(1,num):\n",
    "        probs.append(norm.ppf(i/num))\n",
    "    discretized_arry = []\n",
    "    for i in arry:\n",
    "        discretized_arry.append(bisect.bisect(probs, i) + 1)\n",
    "    return np.array(discretized_arry)\n",
    "\n",
    "\n",
    "def OneR(att, target, num):\n",
    "    '''att is list of attributes, target is targets, num is number of bins'''\n",
    "    \n",
    "    cats = 3\n",
    "    disc = discretize(att, num)\n",
    "    result = np.zeros((num, cats))\n",
    "    for i in range(att.shape[0]):\n",
    "        result[disc[i]-1, target[i] + 1] += 1\n",
    "    \n",
    "    correct = 0\n",
    "    for i in range(num):\n",
    "        correct += max(result[i, :])\n",
    "    return correct/att.shape[0]\n",
    "    \n",
    "accuracies = []\n",
    "num = 4\n",
    "\n",
    "for i in range(feature_data.shape[1]):\n",
    "    accuracies.append(OneR(feature_data[:, i], target_data, num))\n"
   ]
  },
  {
   "cell_type": "code",
   "execution_count": 7,
   "id": "564b5529",
   "metadata": {},
   "outputs": [
    {
     "data": {
      "text/plain": [
       "[0.6772983114446529,\n",
       " 0.6777673545966229,\n",
       " 0.6796435272045028,\n",
       " 0.6801125703564728,\n",
       " 0.6805816135084428,\n",
       " 0.6801125703564728,\n",
       " 0.6810506566604128,\n",
       " 0.6810506566604128,\n",
       " 0.6815196998123827,\n",
       " 0.6815196998123827,\n",
       " 0.6876172607879925,\n",
       " 0.7195121951219512,\n",
       " 0.6871482176360225,\n",
       " 0.6829268292682927,\n",
       " 0.7185741088180112,\n",
       " 0.6899624765478424,\n",
       " 0.7589118198874296,\n",
       " 0.7593808630393997,\n",
       " 0.6819887429643527,\n",
       " 0.6885553470919324]"
      ]
     },
     "execution_count": 7,
     "metadata": {},
     "output_type": "execute_result"
    }
   ],
   "source": [
    "indices = np.argpartition(accuracies, -20)[-20:]\n",
    "largest_20 = []\n",
    "for i in indices:\n",
    "    largest_20.append(accuracies[i])\n",
    "largest_20"
   ]
  },
  {
   "cell_type": "code",
   "execution_count": 8,
   "id": "7f25129d",
   "metadata": {},
   "outputs": [
    {
     "data": {
      "text/plain": [
       "(2132, 20)"
      ]
     },
     "execution_count": 8,
     "metadata": {},
     "output_type": "execute_result"
    }
   ],
   "source": [
    "## Ok. Once we get that, we try to implement simple machine learning with those rows.\n",
    "\n",
    "selected_feature_data = feature_data[:, indices]\n",
    "selected_feature_data.shape"
   ]
  },
  {
   "cell_type": "code",
   "execution_count": 9,
   "id": "c35aec31",
   "metadata": {},
   "outputs": [],
   "source": [
    "target_data = target_data + 1"
   ]
  },
  {
   "cell_type": "code",
   "execution_count": 10,
   "id": "8f3d8ec9",
   "metadata": {},
   "outputs": [
    {
     "data": {
      "text/plain": [
       "array([0, 1, 2, ..., 0, 0, 1])"
      ]
     },
     "execution_count": 10,
     "metadata": {},
     "output_type": "execute_result"
    }
   ],
   "source": [
    "target_data"
   ]
  },
  {
   "cell_type": "code",
   "execution_count": 11,
   "id": "738fe62f",
   "metadata": {},
   "outputs": [],
   "source": [
    "from sklearn.model_selection import train_test_split\n",
    "X_train, X_test, y_train, y_test = train_test_split(selected_feature_data, target_data, \n",
    "                                                    test_size=0.2, \n",
    "                                                    random_state=2)\n",
    "X_validation = X_train[:int(len(X_test))]\n",
    "y_validation = y_train[:int(len(X_test))]\n",
    "\n",
    "X_train = X_train[int(len(X_test)):]\n",
    "y_train = y_train[int(len(X_test)):]"
   ]
  },
  {
   "cell_type": "code",
   "execution_count": 12,
   "id": "95c8c806",
   "metadata": {},
   "outputs": [],
   "source": [
    "class EmotionClassificationFCN(torch.nn.Module):\n",
    "    \n",
    "    def __init__(self, input_dim, output_dim, hidden1_dim, hidden2_dim):# Add parameters for dimensions of 2 hidden layers \n",
    "        \n",
    "        super(EmotionClassificationFCN, self).__init__()\n",
    "        \n",
    "        self.layer1 = torch.nn.Linear(input_dim, hidden1_dim)    # Connections from input to hidden layer 1\n",
    "        self.layer2 = torch.nn.Linear(hidden1_dim, hidden2_dim)  # Connections from hidden layer 1 to hidden layer 2\n",
    "        self.layer3 = torch.nn.Linear(hidden2_dim, output_dim)   # Connections from hidden layer 2 to final output\n",
    "        \n",
    "    def forward(self, x):\n",
    "        \n",
    "        out1 = torch.nn.functional.relu(self.layer1(x))          # Apply relu activation to layer 1 output\n",
    "        out2 = torch.nn.functional.relu(self.layer2(out1))       # Apply relu activation to layer 2 output\n",
    "        output = self.layer3(out2)                               # Return raw layer 3 output\n",
    "        \n",
    "        return output"
   ]
  },
  {
   "cell_type": "code",
   "execution_count": 43,
   "id": "b75ae915",
   "metadata": {},
   "outputs": [
    {
     "data": {
      "text/plain": [
       "EmotionClassificationFCN(\n",
       "  (layer1): Linear(in_features=20, out_features=10, bias=True)\n",
       "  (layer2): Linear(in_features=10, out_features=10, bias=True)\n",
       "  (layer3): Linear(in_features=10, out_features=3, bias=True)\n",
       ")"
      ]
     },
     "execution_count": 43,
     "metadata": {},
     "output_type": "execute_result"
    }
   ],
   "source": [
    "model = EmotionClassificationFCN(input_dim = 20, output_dim = 3, hidden1_dim = 10, hidden2_dim = 10)\n",
    "\n",
    "# Define the learning rate and epoch\n",
    "learning_rate = 0.025\n",
    "epochs = 200\n",
    "\n",
    "# Define loss function (CrossEntropyLoss) and optimizer (Adam)\n",
    "loss_func = torch.nn.CrossEntropyLoss() # Using cross entropy loss since we are outputing probabilities\n",
    "optimizer = torch.optim.Adam(model.parameters(), lr = learning_rate) # Using Adam for more effective optimization\n",
    "\n",
    "model"
   ]
  },
  {
   "cell_type": "code",
   "execution_count": 44,
   "id": "2ce0e3c6",
   "metadata": {},
   "outputs": [],
   "source": [
    "## model.cuda()"
   ]
  },
  {
   "cell_type": "code",
   "execution_count": 45,
   "id": "bb65489f",
   "metadata": {},
   "outputs": [],
   "source": [
    "train_loss_list = np.zeros((epochs,))\n",
    "validation_accuracy_list = np.zeros((epochs,))"
   ]
  },
  {
   "cell_type": "code",
   "execution_count": 46,
   "id": "086929f2",
   "metadata": {},
   "outputs": [],
   "source": [
    "import tqdm # For keeping track of our training progress in percentage\n",
    "\n",
    "# Convert the training, validation, testing dataset (NumPy arrays) into torch tensors\n",
    "\n",
    "train_inputs = torch.from_numpy(X_train).float()\n",
    "train_targets = torch.from_numpy(y_train).long() # Convert to 64-bit integer\n",
    "\n",
    "validation_inputs = torch.from_numpy(X_validation).float()\n",
    "validation_targets = torch.from_numpy(y_validation).long()\n",
    "\n",
    "testing_inputs = torch.from_numpy(X_test).float()\n",
    "testing_targets = torch.from_numpy(y_test).long()"
   ]
  },
  {
   "cell_type": "code",
   "execution_count": 47,
   "id": "b67332d3",
   "metadata": {},
   "outputs": [
    {
     "name": "stderr",
     "output_type": "stream",
     "text": [
      "100%|███████████████████████████████████████████████████████████████████████████████| 200/200 [00:00<00:00, 338.83it/s]\n"
     ]
    }
   ],
   "source": [
    "np.random.seed(45)\n",
    "for epoch in tqdm.trange(epochs):\n",
    "    \n",
    "    optimizer.zero_grad()\n",
    "    \n",
    "    train_outputs = model(train_inputs)\n",
    "    \n",
    "    loss = loss_func(train_outputs, train_targets)\n",
    "    \n",
    "    train_loss_list[epoch] = loss.item()\n",
    "    \n",
    "    loss.backward()\n",
    "    \n",
    "    optimizer.step()\n",
    "    \n",
    "    # Compute Validation Accuracy ----------------------------------------------------------------------\n",
    "    \n",
    "    with torch.no_grad():\n",
    "        \n",
    "        validation_outputs = model(validation_inputs)    \n",
    "        correct = (torch.argmax(validation_outputs, dim=1) == \n",
    "                   validation_targets).type(torch.FloatTensor)\n",
    "        \n",
    "        validation_accuracy_list[epoch] = correct.mean()"
   ]
  },
  {
   "cell_type": "markdown",
   "id": "f275694a",
   "metadata": {},
   "source": [
    "## Developing an initial plan for your project"
   ]
  },
  {
   "cell_type": "code",
   "execution_count": 48,
   "id": "0bcf2b94",
   "metadata": {
    "scrolled": true
   },
   "outputs": [
    {
     "data": {
      "image/png": "[encoded data removed]",
      "text/plain": [
       "<Figure size 1200x600 with 2 Axes>"
      ]
     },
     "metadata": {},
     "output_type": "display_data"
    }
   ],
   "source": [
    "plt.figure(figsize = (12, 6))\n",
    "\n",
    "plt.subplot(2, 1, 1)\n",
    "plt.plot(train_loss_list, linewidth = 3)\n",
    "plt.ylabel(\"training loss\")\n",
    "plt.xlabel(\"epochs\")\n",
    "\n",
    "plt.subplot(2, 1, 2)\n",
    "plt.plot(validation_accuracy_list, linewidth = 3, color = 'gold')\n",
    "plt.ylabel(\"validation accuracy\")\n",
    "sns.despine()"
   ]
  },
  {
   "cell_type": "code",
   "execution_count": 49,
   "id": "3adeb60f",
   "metadata": {},
   "outputs": [
    {
     "name": "stdout",
     "output_type": "stream",
     "text": [
      "Testing Accuracy: 94.61358189582825%\n"
     ]
    }
   ],
   "source": [
    "with torch.no_grad():\n",
    "    \n",
    "    # Pass the testing feature data (30 samples) to the network to produce model predictions\n",
    "    y_pred_test = model(testing_inputs) \n",
    "    \n",
    "    # Use the same technique as above to commpute the testing classification accuracy\n",
    "    correct = (torch.argmax(y_pred_test, dim=1) == testing_targets).type(torch.FloatTensor)\n",
    "    \n",
    "    print(\"Testing Accuracy: \" + str(correct.mean().numpy()*100) + '%')"
   ]
  },
  {
   "cell_type": "code",
   "execution_count": 50,
   "id": "f06b9763",
   "metadata": {},
   "outputs": [
    {
     "name": "stdout",
     "output_type": "stream",
     "text": [
      "[0.35831383 0.38173303 0.39578456 0.43091336 0.54332554 0.57611239\n",
      " 0.57611239 0.56908667 0.70023417 0.69789225 0.69789225 0.69789225\n",
      " 0.69789225 0.70491803 0.70023417 0.69789225 0.69789225 0.7025761\n",
      " 0.71194381 0.71896958 0.71662766 0.71896958 0.73770493 0.78922719\n",
      " 0.81498832 0.87822014 0.89695549 0.89929742 0.90632319 0.90398127\n",
      " 0.89695549 0.89695549 0.90632319 0.90163934 0.90632319 0.90398127\n",
      " 0.90866512 0.91803277 0.91569084 0.92037469 0.92037469 0.92271662\n",
      " 0.92505854 0.92271662 0.92505854 0.92505854 0.92505854 0.92740047\n",
      " 0.9297424  0.93208432 0.93208432 0.93208432 0.93208432 0.93208432\n",
      " 0.93208432 0.93208432 0.92740047 0.9297424  0.9297424  0.9297424\n",
      " 0.92740047 0.9297424  0.93208432 0.93208432 0.93208432 0.93442625\n",
      " 0.92505854 0.9297424  0.93911004 0.93442625 0.93208432 0.93911004\n",
      " 0.93442625 0.93442625 0.93911004 0.93442625 0.93676817 0.93676817\n",
      " 0.93442625 0.93911004 0.93676817 0.93676817 0.93676817 0.93676817\n",
      " 0.93676817 0.93676817 0.93911004 0.93442625 0.93676817 0.93442625\n",
      " 0.93442625 0.93442625 0.93911004 0.93911004 0.93911004 0.93676817\n",
      " 0.92037469 0.92271662 0.93911004 0.92037469 0.92271662 0.9297424\n",
      " 0.92505854 0.93911004 0.93208432 0.93442625 0.93442625 0.94145197\n",
      " 0.93676817 0.93911004 0.93442625 0.93911004 0.94145197 0.94145197\n",
      " 0.94379389 0.93911004 0.94145197 0.94145197 0.94613582 0.94145197\n",
      " 0.94847775 0.94145197 0.94613582 0.94145197 0.94847775 0.94847775\n",
      " 0.94847775 0.94847775 0.94847775 0.94847775 0.95081967 0.94847775\n",
      " 0.94613582 0.94613582 0.94379389 0.94613582 0.94613582 0.94847775\n",
      " 0.94613582 0.94847775 0.94847775 0.94847775 0.94847775 0.94847775\n",
      " 0.94847775 0.94847775 0.94847775 0.94847775 0.94847775 0.94613582\n",
      " 0.94847775 0.94847775 0.94613582 0.94613582 0.94613582 0.94613582\n",
      " 0.94613582 0.94613582 0.94847775 0.94847775 0.94847775 0.94847775\n",
      " 0.94847775 0.94847775 0.94847775 0.94847775 0.94847775 0.94847775\n",
      " 0.94613582 0.94613582 0.94613582 0.94379389 0.94379389 0.94379389\n",
      " 0.94379389 0.94379389 0.94379389 0.94379389 0.94613582 0.94145197\n",
      " 0.94145197 0.94379389 0.94379389 0.94379389 0.94145197 0.94145197\n",
      " 0.94613582 0.94145197 0.94847775 0.94379389 0.94613582 0.94145197\n",
      " 0.94145197 0.94145197 0.94613582 0.94379389 0.94613582 0.94847775\n",
      " 0.94379389 0.94847775]\n"
     ]
    }
   ],
   "source": [
    "print(validation_accuracy_list)"
   ]
  },
  {
   "cell_type": "code",
   "execution_count": null,
   "id": "f930e887",
   "metadata": {},
   "outputs": [],
   "source": []
  }
 ],
 "metadata": {
  "kernelspec": {
   "display_name": "Python 3 (ipykernel)",
   "language": "python",
   "name": "python3"
  },
  "language_info": {
   "codemirror_mode": {
    "name": "ipython",
    "version": 3
   },
   "file_extension": ".py",
   "mimetype": "text/x-python",
   "name": "python",
   "nbconvert_exporter": "python",
   "pygments_lexer": "ipython3",
   "version": "3.11.5"
  }
 },
 "nbformat": 4,
 "nbformat_minor": 5
}
